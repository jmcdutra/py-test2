{
 "cells": [
  {
   "cell_type": "markdown",
   "id": "ab81c07f",
   "metadata": {},
   "source": [
    "# Probabilidade\n",
    "\n",
    "## Distribuições de Probabilidade\n",
    "\n",
    "João e Maria estão jogando RPG, um jogo de imaginação em que as regras do mundo são ditadas por jogadas de dados. Para saber se um ataque foi bem sucedido, um dado de seis faces é jogado. Se o resultado for o número 1 ou 2, o ataque terá sido bem sucedido. O mesmo para calcular o dano, roda-se um dado e o valor será o dano causado pelo ataque bem sucedido. Podem-se utilizar mais de um dado em um ataque, por exemplo, 2 dados de 6 faces ou 1 dado de 12 faces.\n",
    "\n",
    "Maria acredita que jogadas que usam mais de um dado são superiores a jogadas de um dado com número de faces iguais ao número total de faces dos dois dados para causar dano. Se seu objetivo é causar o maior dano possível, com dois dados o dano mínimo é maior que com um dado. Por exemplo, sempre que ela precisar escolher um teste de dano, ela deveria escolher a opção com dois dados, pois o resultado mínimo será 2, enquanto com 1 dado de 12 faces, o valor mínimo é 1. Assim, em média, o dano causado por 2 dados de 6 faces é maior que o dano médio do dado de 12 faces.\n",
    "\n",
    "Não só isso, como ela acredita que a distribuição de frequência dos valores nesses casos será diferente e que para testes de probabilidade simples, como saber se um ataque foi bem sucedido, é melhor usar apenas um dado, e será mais justo, pois cada face tem a mesma probabilidade de ocorrência. \n",
    "\n",
    "João discorda e começa a jogar dados e conferir os resultados para checar as intuições e pensamento matemático de Maria.\n",
    "\n",
    "### Instruções\n",
    "\n",
    "Escreva um programa que simule a jogada de 10 mil dados e calcule o valor esperado para cadas uma das opções:\n",
    " - 1 dado de 12 faces\n",
    " - 2 dados de 6 faces\n",
    " \n",
    "Construa um gráfico de barras para cada opção com o número de vezes que cada face foi lançada.\n"
   ]
  },
  {
   "cell_type": "code",
   "execution_count": 15,
   "id": "91b7473f",
   "metadata": {},
   "outputs": [],
   "source": [
    "import pandas as pd\n",
    "from random import randint, choice\n",
    "from matplotlib import pyplot as plt\n",
    "\n",
    "def media(eventos):\n",
    "    soma = 0\n",
    "    for evento in eventos:\n",
    "        soma = soma + evento\n",
    "    media = soma / len(eventos)\n",
    "    return media"
   ]
  },
  {
   "cell_type": "code",
   "execution_count": 19,
   "id": "2079ba9d",
   "metadata": {},
   "outputs": [],
   "source": [
    "def jogar_dado(dado, faces):\n",
    "    for i in range(10000):\n",
    "        result = randint(1, faces)\n",
    "       # jogadas.append(result)\n",
    "        dado[result - 1] += 1\n",
    "    return dado\n",
    "\n",
    "def jogar_2_dados(dado, faces):\n",
    "    for i in range(10000):\n",
    "        result = randint(1, faces) + randint(1, faces)\n",
    "        dado[result - 1] += 1\n",
    "    return dado"
   ]
  },
  {
   "cell_type": "markdown",
   "id": "792b991f",
   "metadata": {},
   "source": [
    "## Gráfico 2 dados com 6 faces"
   ]
  },
  {
   "cell_type": "code",
   "execution_count": 20,
   "id": "aabb2a9b",
   "metadata": {},
   "outputs": [
    {
     "data": {
      "image/png": "[encoded data removed]",
      "text/plain": [
       "<Figure size 432x288 with 1 Axes>"
      ]
     },
     "metadata": {
      "needs_background": "light"
     },
     "output_type": "display_data"
    }
   ],
   "source": [
    "dado_6_faces_1 = [0, 0, 0, 0, 0, 0, 0, 0, 0, 0, 0, 0]\n",
    "total_2_dados = jogar_2_dados(dado_6_faces_1, 6)\n",
    "\n",
    "plt.bar([1, 2, 3, 4, 5, 6, 7, 8, 9, 10, 11, 12], total_2_dados)\n",
    "plt.show()"
   ]
  },
  {
   "cell_type": "markdown",
   "id": "d9caebc3",
   "metadata": {},
   "source": [
    "## Gráfico 1 dado com 12 faces"
   ]
  },
  {
   "cell_type": "code",
   "execution_count": 18,
   "id": "283d04d9",
   "metadata": {},
   "outputs": [
    {
     "data": {
      "image/png": "[encoded data removed]",
      "text/plain": [
       "<Figure size 432x288 with 1 Axes>"
      ]
     },
     "metadata": {
      "needs_background": "light"
     },
     "output_type": "display_data"
    }
   ],
   "source": [
    "dado_12_faces = [0, 0, 0, 0, 0, 0, 0, 0, 0, 0, 0, 0]\n",
    "\n",
    "jogar_dado(dado_12_faces, 12)\n",
    "\n",
    "plt.bar([1, 2, 3, 4, 5, 6, 7, 8, 9, 10, 11, 12], dado_12_faces)\n",
    "plt.show()"
   ]
  },
  {
   "cell_type": "code",
   "execution_count": null,
   "id": "9131a106",
   "metadata": {},
   "outputs": [],
   "source": []
  }
 ],
 "metadata": {
  "kernelspec": {
   "display_name": "Python 3 (ipykernel)",
   "language": "python",
   "name": "python3"
  },
  "language_info": {
   "codemirror_mode": {
    "name": "ipython",
    "version": 3
   },
   "file_extension": ".py",
   "mimetype": "text/x-python",
   "name": "python",
   "nbconvert_exporter": "python",
   "pygments_lexer": "ipython3",
   "version": "3.9.7"
  }
 },
 "nbformat": 4,
 "nbformat_minor": 5
}
